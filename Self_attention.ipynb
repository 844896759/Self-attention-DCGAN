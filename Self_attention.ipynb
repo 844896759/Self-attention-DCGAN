{
 "cells": [
  {
   "cell_type": "code",
   "execution_count": 10,
   "metadata": {},
   "outputs": [],
   "source": [
    "import torch\n",
    "import torch.nn as nn\n",
    "from torchvision import transforms\n",
    "from torchvision.datasets import MNIST\n",
    "from torch.utils.data import DataLoader\n",
    "import matplotlib.pyplot as plt"
   ]
  },
  {
   "cell_type": "code",
   "execution_count": 11,
   "metadata": {},
   "outputs": [],
   "source": [
    "# Define data transformer\n",
    "img_transform = transforms.Compose([\n",
    "    transforms.Resize(28),\n",
    "    transforms.ToTensor(),\n",
    "    transforms.Normalize((0.5,), (0.5,))\n",
    "])\n",
    "# Read data and transform\n",
    "dataset = MNIST(root='./data', download=True, train=True, transform=img_transform)\n",
    "dataloader = DataLoader(dataset, batch_size=64, shuffle=False)\n",
    "x,_ = next(iter(dataloader))"
   ]
  },
  {
   "cell_type": "code",
   "execution_count": 31,
   "metadata": {},
   "outputs": [],
   "source": [
    "query_conv = nn.Conv2d(in_channels = 1 , out_channels = 1 , kernel_size= 1)\n",
    "key_conv = nn.Conv2d(in_channels = 1 , out_channels = 1 , kernel_size= 1)\n",
    "value_conv = nn.Conv2d(in_channels = 1 , out_channels = 1 , kernel_size= 1)\n",
    "gamma = 1\n",
    "softmax = nn.Softmax(dim=-1)\n",
    "\n",
    "m_batchsize,C,width,height = x.size()\n",
    "        \n",
    "proj_query = query_conv(x).view(m_batchsize, -1, width*height).permute(0,2,1) # B * N * C\n",
    "proj_key = key_conv(x).view(m_batchsize, -1, width*height) # B * C * N\n",
    "energy = torch.bmm(proj_query, proj_key) # batch matrix-matrix product\n",
    "attention = softmax(energy) # B * N * N\n",
    "proj_value = value_conv(x).view(m_batchsize, -1, width*height) # B * C * N\n",
    "out = torch.bmm(proj_value, attention.permute(0,2,1)) # batch matrix-matrix product\n",
    "out = out.view(m_batchsize,C,width,height) # B * C * W * H\n",
    "        \n",
    "out1 = gamma*out + x"
   ]
  },
  {
   "cell_type": "code",
   "execution_count": 34,
   "metadata": {},
   "outputs": [
    {
     "data": {
      "text/plain": [
       "<matplotlib.image.AxesImage at 0x124ef95c0>"
      ]
     },
     "execution_count": 34,
     "metadata": {},
     "output_type": "execute_result"
    },
    {
     "data": {
      "image/png": "[encoded data removed]",
      "text/plain": [
       "<Figure size 432x288 with 1 Axes>"
      ]
     },
     "metadata": {
      "needs_background": "light"
     },
     "output_type": "display_data"
    }
   ],
   "source": [
    "plt.imshow(key_conv(x)[0,0,:,:].detach().numpy(), cmap='gray')"
   ]
  },
  {
   "cell_type": "code",
   "execution_count": 35,
   "metadata": {},
   "outputs": [
    {
     "data": {
      "text/plain": [
       "tensor([[-0.0304, -0.0304, -0.0304, -0.0304, -0.0304, -0.0304, -0.0304, -0.0304,\n",
       "         -0.0304, -0.0304, -0.0304, -0.0304, -0.0304, -0.0304, -0.0304, -0.0304,\n",
       "         -0.0304, -0.0304, -0.0304, -0.0304, -0.0304, -0.0304, -0.0304, -0.0304,\n",
       "         -0.0304, -0.0304, -0.0304, -0.0304],\n",
       "        [-0.0304, -0.0304, -0.0304, -0.0304, -0.0304, -0.0304, -0.0304, -0.0304,\n",
       "         -0.0304, -0.0304, -0.0304, -0.0304, -0.0304, -0.0304, -0.0304, -0.0304,\n",
       "         -0.0304, -0.0304, -0.0304, -0.0304, -0.0304, -0.0304, -0.0304, -0.0304,\n",
       "         -0.0304, -0.0304, -0.0304, -0.0304],\n",
       "        [-0.0304, -0.0304, -0.0304, -0.0304, -0.0304, -0.0304, -0.0304, -0.0304,\n",
       "         -0.0304, -0.0304, -0.0304, -0.0304, -0.0304, -0.0304, -0.0304, -0.0304,\n",
       "         -0.0304, -0.0304, -0.0304, -0.0304, -0.0304, -0.0304, -0.0304, -0.0304,\n",
       "         -0.0304, -0.0304, -0.0304, -0.0304],\n",
       "        [-0.0304, -0.0304, -0.0304, -0.0304, -0.0304, -0.0304, -0.0304, -0.0304,\n",
       "         -0.0304, -0.0304, -0.0304, -0.0304, -0.0304, -0.0304, -0.0304, -0.0304,\n",
       "         -0.0304, -0.0304, -0.0304, -0.0304, -0.0304, -0.0304, -0.0304, -0.0304,\n",
       "         -0.0304, -0.0304, -0.0304, -0.0304],\n",
       "        [-0.0304, -0.0304, -0.0304, -0.0304, -0.0304, -0.0304, -0.0304, -0.0304,\n",
       "         -0.0304, -0.0304, -0.0304, -0.0304, -0.0304, -0.0304, -0.0304, -0.0304,\n",
       "         -0.0304, -0.0304, -0.0304, -0.0304, -0.0304, -0.0304, -0.0304, -0.0304,\n",
       "         -0.0304, -0.0304, -0.0304, -0.0304],\n",
       "        [-0.0304, -0.0304, -0.0304, -0.0304, -0.0304, -0.0304, -0.0304, -0.0304,\n",
       "         -0.0304, -0.0304, -0.0304, -0.0304, -0.0302, -0.0290, -0.0290, -0.0290,\n",
       "         -0.0206, -0.0198, -0.0168, -0.0284, -0.0175, -0.0106, -0.0112, -0.0205,\n",
       "         -0.0304, -0.0304, -0.0304, -0.0304],\n",
       "        [-0.0304, -0.0304, -0.0304, -0.0304, -0.0304, -0.0304, -0.0304, -0.0304,\n",
       "         -0.0281, -0.0276, -0.0231, -0.0184, -0.0172, -0.0107, -0.0107, -0.0107,\n",
       "         -0.0107, -0.0107, -0.0129, -0.0170, -0.0107, -0.0116, -0.0152, -0.0254,\n",
       "         -0.0304, -0.0304, -0.0304, -0.0304],\n",
       "        [-0.0304, -0.0304, -0.0304, -0.0304, -0.0304, -0.0304, -0.0304, -0.0266,\n",
       "         -0.0119, -0.0107, -0.0107, -0.0107, -0.0107, -0.0107, -0.0107, -0.0107,\n",
       "         -0.0107, -0.0109, -0.0232, -0.0240, -0.0240, -0.0260, -0.0274, -0.0304,\n",
       "         -0.0304, -0.0304, -0.0304, -0.0304],\n",
       "        [-0.0304, -0.0304, -0.0304, -0.0304, -0.0304, -0.0304, -0.0304, -0.0290,\n",
       "         -0.0134, -0.0107, -0.0107, -0.0107, -0.0107, -0.0107, -0.0150, -0.0163,\n",
       "         -0.0112, -0.0117, -0.0304, -0.0304, -0.0304, -0.0304, -0.0304, -0.0304,\n",
       "         -0.0304, -0.0304, -0.0304, -0.0304],\n",
       "        [-0.0304, -0.0304, -0.0304, -0.0304, -0.0304, -0.0304, -0.0304, -0.0304,\n",
       "         -0.0242, -0.0183, -0.0221, -0.0107, -0.0107, -0.0145, -0.0295, -0.0304,\n",
       "         -0.0271, -0.0184, -0.0304, -0.0304, -0.0304, -0.0304, -0.0304, -0.0304,\n",
       "         -0.0304, -0.0304, -0.0304, -0.0304],\n",
       "        [-0.0304, -0.0304, -0.0304, -0.0304, -0.0304, -0.0304, -0.0304, -0.0304,\n",
       "         -0.0304, -0.0293, -0.0303, -0.0184, -0.0107, -0.0234, -0.0304, -0.0304,\n",
       "         -0.0304, -0.0304, -0.0304, -0.0304, -0.0304, -0.0304, -0.0304, -0.0304,\n",
       "         -0.0304, -0.0304, -0.0304, -0.0304],\n",
       "        [-0.0304, -0.0304, -0.0304, -0.0304, -0.0304, -0.0304, -0.0304, -0.0304,\n",
       "         -0.0304, -0.0304, -0.0304, -0.0196, -0.0107, -0.0156, -0.0302, -0.0304,\n",
       "         -0.0304, -0.0304, -0.0304, -0.0304, -0.0304, -0.0304, -0.0304, -0.0304,\n",
       "         -0.0304, -0.0304, -0.0304, -0.0304],\n",
       "        [-0.0304, -0.0304, -0.0304, -0.0304, -0.0304, -0.0304, -0.0304, -0.0304,\n",
       "         -0.0304, -0.0304, -0.0304, -0.0295, -0.0156, -0.0107, -0.0250, -0.0304,\n",
       "         -0.0304, -0.0304, -0.0304, -0.0304, -0.0304, -0.0304, -0.0304, -0.0304,\n",
       "         -0.0304, -0.0304, -0.0304, -0.0304],\n",
       "        [-0.0304, -0.0304, -0.0304, -0.0304, -0.0304, -0.0304, -0.0304, -0.0304,\n",
       "         -0.0304, -0.0304, -0.0304, -0.0304, -0.0277, -0.0117, -0.0129, -0.0180,\n",
       "         -0.0220, -0.0303, -0.0304, -0.0304, -0.0304, -0.0304, -0.0304, -0.0304,\n",
       "         -0.0304, -0.0304, -0.0304, -0.0304],\n",
       "        [-0.0304, -0.0304, -0.0304, -0.0304, -0.0304, -0.0304, -0.0304, -0.0304,\n",
       "         -0.0304, -0.0304, -0.0304, -0.0304, -0.0304, -0.0241, -0.0117, -0.0107,\n",
       "         -0.0107, -0.0211, -0.0285, -0.0304, -0.0304, -0.0304, -0.0304, -0.0304,\n",
       "         -0.0304, -0.0304, -0.0304, -0.0304],\n",
       "        [-0.0304, -0.0304, -0.0304, -0.0304, -0.0304, -0.0304, -0.0304, -0.0304,\n",
       "         -0.0304, -0.0304, -0.0304, -0.0304, -0.0304, -0.0304, -0.0269, -0.0159,\n",
       "         -0.0107, -0.0107, -0.0187, -0.0283, -0.0304, -0.0304, -0.0304, -0.0304,\n",
       "         -0.0304, -0.0304, -0.0304, -0.0304],\n",
       "        [-0.0304, -0.0304, -0.0304, -0.0304, -0.0304, -0.0304, -0.0304, -0.0304,\n",
       "         -0.0304, -0.0304, -0.0304, -0.0304, -0.0304, -0.0304, -0.0304, -0.0292,\n",
       "         -0.0232, -0.0108, -0.0107, -0.0159, -0.0304, -0.0304, -0.0304, -0.0304,\n",
       "         -0.0304, -0.0304, -0.0304, -0.0304],\n",
       "        [-0.0304, -0.0304, -0.0304, -0.0304, -0.0304, -0.0304, -0.0304, -0.0304,\n",
       "         -0.0304, -0.0304, -0.0304, -0.0304, -0.0304, -0.0304, -0.0304, -0.0304,\n",
       "         -0.0304, -0.0110, -0.0107, -0.0110, -0.0254, -0.0304, -0.0304, -0.0304,\n",
       "         -0.0304, -0.0304, -0.0304, -0.0304],\n",
       "        [-0.0304, -0.0304, -0.0304, -0.0304, -0.0304, -0.0304, -0.0304, -0.0304,\n",
       "         -0.0304, -0.0304, -0.0304, -0.0304, -0.0304, -0.0304, -0.0268, -0.0203,\n",
       "         -0.0162, -0.0107, -0.0107, -0.0143, -0.0302, -0.0304, -0.0304, -0.0304,\n",
       "         -0.0304, -0.0304, -0.0304, -0.0304],\n",
       "        [-0.0304, -0.0304, -0.0304, -0.0304, -0.0304, -0.0304, -0.0304, -0.0304,\n",
       "         -0.0304, -0.0304, -0.0304, -0.0304, -0.0274, -0.0189, -0.0126, -0.0107,\n",
       "         -0.0107, -0.0107, -0.0110, -0.0163, -0.0304, -0.0304, -0.0304, -0.0304,\n",
       "         -0.0304, -0.0304, -0.0304, -0.0304],\n",
       "        [-0.0304, -0.0304, -0.0304, -0.0304, -0.0304, -0.0304, -0.0304, -0.0304,\n",
       "         -0.0304, -0.0304, -0.0285, -0.0215, -0.0132, -0.0107, -0.0107, -0.0107,\n",
       "         -0.0107, -0.0148, -0.0243, -0.0304, -0.0304, -0.0304, -0.0304, -0.0304,\n",
       "         -0.0304, -0.0304, -0.0304, -0.0304],\n",
       "        [-0.0304, -0.0304, -0.0304, -0.0304, -0.0304, -0.0304, -0.0304, -0.0304,\n",
       "         -0.0286, -0.0253, -0.0138, -0.0107, -0.0107, -0.0107, -0.0107, -0.0150,\n",
       "         -0.0241, -0.0302, -0.0304, -0.0304, -0.0304, -0.0304, -0.0304, -0.0304,\n",
       "         -0.0304, -0.0304, -0.0304, -0.0304],\n",
       "        [-0.0304, -0.0304, -0.0304, -0.0304, -0.0304, -0.0304, -0.0290, -0.0171,\n",
       "         -0.0134, -0.0107, -0.0107, -0.0107, -0.0107, -0.0152, -0.0242, -0.0297,\n",
       "         -0.0304, -0.0304, -0.0304, -0.0304, -0.0304, -0.0304, -0.0304, -0.0304,\n",
       "         -0.0304, -0.0304, -0.0304, -0.0304],\n",
       "        [-0.0304, -0.0304, -0.0304, -0.0304, -0.0261, -0.0170, -0.0128, -0.0107,\n",
       "         -0.0107, -0.0107, -0.0107, -0.0114, -0.0201, -0.0295, -0.0304, -0.0304,\n",
       "         -0.0304, -0.0304, -0.0304, -0.0304, -0.0304, -0.0304, -0.0304, -0.0304,\n",
       "         -0.0304, -0.0304, -0.0304, -0.0304],\n",
       "        [-0.0304, -0.0304, -0.0304, -0.0304, -0.0198, -0.0107, -0.0107, -0.0107,\n",
       "         -0.0139, -0.0199, -0.0201, -0.0292, -0.0304, -0.0304, -0.0304, -0.0304,\n",
       "         -0.0304, -0.0304, -0.0304, -0.0304, -0.0304, -0.0304, -0.0304, -0.0304,\n",
       "         -0.0304, -0.0304, -0.0304, -0.0304],\n",
       "        [-0.0304, -0.0304, -0.0304, -0.0304, -0.0304, -0.0304, -0.0304, -0.0304,\n",
       "         -0.0304, -0.0304, -0.0304, -0.0304, -0.0304, -0.0304, -0.0304, -0.0304,\n",
       "         -0.0304, -0.0304, -0.0304, -0.0304, -0.0304, -0.0304, -0.0304, -0.0304,\n",
       "         -0.0304, -0.0304, -0.0304, -0.0304],\n",
       "        [-0.0304, -0.0304, -0.0304, -0.0304, -0.0304, -0.0304, -0.0304, -0.0304,\n",
       "         -0.0304, -0.0304, -0.0304, -0.0304, -0.0304, -0.0304, -0.0304, -0.0304,\n",
       "         -0.0304, -0.0304, -0.0304, -0.0304, -0.0304, -0.0304, -0.0304, -0.0304,\n",
       "         -0.0304, -0.0304, -0.0304, -0.0304],\n",
       "        [-0.0304, -0.0304, -0.0304, -0.0304, -0.0304, -0.0304, -0.0304, -0.0304,\n",
       "         -0.0304, -0.0304, -0.0304, -0.0304, -0.0304, -0.0304, -0.0304, -0.0304,\n",
       "         -0.0304, -0.0304, -0.0304, -0.0304, -0.0304, -0.0304, -0.0304, -0.0304,\n",
       "         -0.0304, -0.0304, -0.0304, -0.0304]], grad_fn=<SliceBackward>)"
      ]
     },
     "execution_count": 35,
     "metadata": {},
     "output_type": "execute_result"
    }
   ],
   "source": [
    "key_conv(x)[0,0,:,:]"
   ]
  },
  {
   "cell_type": "code",
   "execution_count": 21,
   "metadata": {},
   "outputs": [
    {
     "data": {
      "text/plain": [
       "<matplotlib.image.AxesImage at 0x124e56d30>"
      ]
     },
     "execution_count": 21,
     "metadata": {},
     "output_type": "execute_result"
    },
    {
     "data": {
      "image/png": "[encoded data removed]",
      "text/plain": [
       "<Figure size 432x288 with 1 Axes>"
      ]
     },
     "metadata": {
      "needs_background": "light"
     },
     "output_type": "display_data"
    }
   ],
   "source": [
    "plt.imshow(out[0,0,:,:].detach().numpy(), cmap='gray')"
   ]
  },
  {
   "cell_type": "code",
   "execution_count": 23,
   "metadata": {},
   "outputs": [
    {
     "data": {
      "text/plain": [
       "<matplotlib.image.AxesImage at 0x124eabc88>"
      ]
     },
     "execution_count": 23,
     "metadata": {},
     "output_type": "execute_result"
    },
    {
     "data": {
      "image/png": "[encoded data removed]",
      "text/plain": [
       "<Figure size 432x288 with 1 Axes>"
      ]
     },
     "metadata": {
      "needs_background": "light"
     },
     "output_type": "display_data"
    }
   ],
   "source": [
    "plt.imshow(out1[0,0,:,:].detach().numpy(), cmap='gray')"
   ]
  },
  {
   "cell_type": "code",
   "execution_count": null,
   "metadata": {},
   "outputs": [],
   "source": []
  }
 ],
 "metadata": {
  "kernelspec": {
   "display_name": "Python 3",
   "language": "python",
   "name": "python3"
  },
  "language_info": {
   "codemirror_mode": {
    "name": "ipython",
    "version": 3
   },
   "file_extension": ".py",
   "mimetype": "text/x-python",
   "name": "python",
   "nbconvert_exporter": "python",
   "pygments_lexer": "ipython3",
   "version": "3.7.3"
  }
 },
 "nbformat": 4,
 "nbformat_minor": 4
}
