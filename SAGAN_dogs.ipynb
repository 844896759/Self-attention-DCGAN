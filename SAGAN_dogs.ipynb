{
 "cells": [
  {
   "cell_type": "code",
   "execution_count": 1,
   "metadata": {},
   "outputs": [],
   "source": [
    "import torch\n",
    "import torch.nn as nn\n",
    "from torch.utils.data import DataLoader\n",
    "from torchvision import transforms\n",
    "from torchvision.utils import save_image\n",
    "from torchvision.datasets import ImageFolder\n",
    "from model_64 import Generator, Discriminator\n",
    "from IPython.display import clear_output\n",
    "import datetime\n",
    "import time\n",
    "import os"
   ]
  },
  {
   "cell_type": "code",
   "execution_count": 6,
   "metadata": {},
   "outputs": [],
   "source": [
    "batch_size = 64\n",
    "\n",
    "# Utility functions\n",
    "def cuda(data):\n",
    "    if torch.cuda.is_available():\n",
    "        return data.cuda()\n",
    "    else:\n",
    "        return data\n",
    "\n",
    "def denorm(x):\n",
    "    out = (x + 1) / 2\n",
    "    return out.clamp_(0, 1)\n",
    "\n",
    "transform = transforms.Compose([transforms.Resize(64),\n",
    "                                transforms.CenterCrop(64),\n",
    "                                transforms.ToTensor()])\n",
    "\n",
    "train_data = ImageFolder('./data/dogs', transform=transform)\n",
    "\n",
    "dataloader = DataLoader(train_data, shuffle=True, batch_size=batch_size, num_workers=4)\n",
    "\n",
    "# Fix a random latent input for samples\n",
    "fixed_z = cuda(torch.randn(64, 100))"
   ]
  },
  {
   "cell_type": "code",
   "execution_count": 7,
   "metadata": {},
   "outputs": [],
   "source": [
    "def train(steps = 100000, batch_size = 64, z_dim = 100, attn = True):\n",
    "    # Initialize model\n",
    "    G = cuda(Generator(batch_size, attn))\n",
    "    D = cuda(Discriminator(batch_size, attn))\n",
    "    \n",
    "    # Make directory for samples and models\n",
    "    cwd = os.getcwd()\n",
    "    post='_attn' if attn else ''\n",
    "    if not os.path.exists(cwd+'/samples_dogs'+post):\n",
    "        os.makedirs(cwd+'/samples_dogs'+post)\n",
    "\n",
    "    # Initialize optimizer with filter, lr and coefficients\n",
    "    g_optimizer = torch.optim.Adam(filter(lambda p: p.requires_grad, G.parameters()), 0.0001, [0.0,0.9])\n",
    "    d_optimizer = torch.optim.Adam(filter(lambda p: p.requires_grad, D.parameters()), 0.0004, [0.0,0.9])\n",
    "    \n",
    "    # Load data\n",
    "    Iter = iter(dataloader)\n",
    "    \n",
    "    # Start timer\n",
    "    start_time = time.time()\n",
    "    \n",
    "    for step in range(steps):\n",
    "        # ================== Train D ================== #\n",
    "        D.train(); G.train()\n",
    "        try:\n",
    "            real_images,_ = next(Iter)\n",
    "        except:\n",
    "            Iter = iter(dataloader)\n",
    "            real_images,_ = next(Iter)\n",
    "        \n",
    "        # Compute loss with real images\n",
    "        d_out_real = D(cuda(real_images))\n",
    "        d_loss_real = torch.nn.ReLU()(1.0 - d_out_real).mean()\n",
    "        \n",
    "        # Compute loss with fake images\n",
    "        z = cuda(torch.randn(batch_size, z_dim))\n",
    "        fake_images = G(z)\n",
    "        d_out_fake = D(fake_images)\n",
    "        d_loss_fake = torch.nn.ReLU()(1.0 + d_out_fake).mean()\n",
    "        \n",
    "        # Backward + Optimize\n",
    "        d_loss = d_loss_real + d_loss_fake\n",
    "        d_optimizer.zero_grad(); g_optimizer.zero_grad()\n",
    "        d_loss.backward()\n",
    "        d_optimizer.step()\n",
    "        \n",
    "        # ================== Train G ================== #\n",
    "        # Create random noise\n",
    "        z = cuda(torch.randn(batch_size, z_dim))\n",
    "        fake_images = G(z)\n",
    "        g_out_fake = D(fake_images)\n",
    "        g_loss_fake = - g_out_fake.mean()\n",
    "        d_optimizer.zero_grad(); g_optimizer.zero_grad()\n",
    "        g_loss_fake.backward()\n",
    "        g_optimizer.step()\n",
    "        \n",
    "        # Print out log info\n",
    "        if (step + 1) % 10 == 0:\n",
    "            elapsed = time.time() - start_time\n",
    "            expect = elapsed/(step + 1)*(steps-step-1)\n",
    "            elapsed = str(datetime.timedelta(seconds=elapsed))\n",
    "            expect = str(datetime.timedelta(seconds=expect))\n",
    "            clear_output(wait=True)\n",
    "            print(\"Elapsed [{}], Expect [{}], step [{}/{}], D_real_loss: {:.4f}, \"\n",
    "                  \" ave_generator_gamma1: {:.4f}, ave_generator_gamma2: {:.4f}\".\n",
    "                  format(elapsed,expect,step + 1,steps,d_loss_real.item(),\n",
    "                         G.attn1.gamma.mean().item(),\n",
    "                         G.attn2.gamma.mean().item()))\n",
    "        \n",
    "        # Sample images\n",
    "        if (step + 1) % (100) == 0:\n",
    "            fake_images= G(fixed_z)\n",
    "            save_image(denorm(fake_images), os.path.join('./samples_dogs'+post, '{}_fake.png'.format(step + 1)))\n",
    "        \n",
    "        # Save models\n",
    "        #if (step+1) % (100) == 0:\n",
    "            #torch.save(G.state_dict(),os.path.join('./models', '{}_G.pth'.format(step + 1)))\n",
    "            #torch.save(D.state_dict(),os.path.join('./models', '{}_D.pth'.format(step + 1)))"
   ]
  },
  {
   "cell_type": "code",
   "execution_count": 8,
   "metadata": {},
   "outputs": [
    {
     "name": "stdout",
     "output_type": "stream",
     "text": [
      "Elapsed [0:40:57.293513], Expect [5:32:43.267736], step [10960/100000], D_real_loss: 0.0241,  ave_generator_gamma1: -0.1376, ave_generator_gamma2: 0.1558\n"
     ]
    },
    {
     "name": "stderr",
     "output_type": "stream",
     "text": [
      "ERROR:root:Internal Python error in the inspect module.\n",
      "Below is the traceback from this internal error.\n",
      "\n"
     ]
    },
    {
     "name": "stdout",
     "output_type": "stream",
     "text": [
      "Traceback (most recent call last):\n",
      "  File \"/opt/conda/lib/python3.7/site-packages/IPython/core/interactiveshell.py\", line 3331, in run_code\n",
      "    exec(code_obj, self.user_global_ns, self.user_ns)\n",
      "  File \"<ipython-input-8-4ae6d97b8026>\", line 1, in <module>\n",
      "    train(steps = 100000, attn = True)\n",
      "  File \"<ipython-input-7-dc23e28cf0b4>\", line 32, in train\n",
      "    d_out_real = D(cuda(real_images))\n",
      "  File \"<ipython-input-6-19ce1427b4f7>\", line 6, in cuda\n",
      "    return data.cuda()\n",
      "KeyboardInterrupt\n",
      "\n",
      "During handling of the above exception, another exception occurred:\n",
      "\n",
      "Traceback (most recent call last):\n",
      "  File \"/opt/conda/lib/python3.7/site-packages/IPython/core/interactiveshell.py\", line 2044, in showtraceback\n",
      "    stb = value._render_traceback_()\n",
      "AttributeError: 'KeyboardInterrupt' object has no attribute '_render_traceback_'\n",
      "\n",
      "During handling of the above exception, another exception occurred:\n",
      "\n",
      "Traceback (most recent call last):\n",
      "  File \"/opt/conda/lib/python3.7/site-packages/IPython/core/ultratb.py\", line 1148, in get_records\n",
      "    return _fixed_getinnerframes(etb, number_of_lines_of_context, tb_offset)\n",
      "  File \"/opt/conda/lib/python3.7/site-packages/IPython/core/ultratb.py\", line 316, in wrapped\n",
      "    return f(*args, **kwargs)\n",
      "  File \"/opt/conda/lib/python3.7/site-packages/IPython/core/ultratb.py\", line 350, in _fixed_getinnerframes\n",
      "    records = fix_frame_records_filenames(inspect.getinnerframes(etb, context))\n",
      "  File \"/opt/conda/lib/python3.7/inspect.py\", line 1502, in getinnerframes\n",
      "    frameinfo = (tb.tb_frame,) + getframeinfo(tb, context)\n",
      "  File \"/opt/conda/lib/python3.7/inspect.py\", line 1464, in getframeinfo\n",
      "    lines, lnum = findsource(frame)\n",
      "  File \"/opt/conda/lib/python3.7/site-packages/IPython/core/ultratb.py\", line 170, in findsource\n",
      "    file = getsourcefile(object) or getfile(object)\n",
      "  File \"/opt/conda/lib/python3.7/inspect.py\", line 696, in getsourcefile\n",
      "    if getattr(getmodule(object, filename), '__loader__', None) is not None:\n",
      "  File \"/opt/conda/lib/python3.7/inspect.py\", line 732, in getmodule\n",
      "    for modname, module in list(sys.modules.items()):\n",
      "KeyboardInterrupt\n"
     ]
    },
    {
     "ename": "KeyboardInterrupt",
     "evalue": "",
     "output_type": "error",
     "traceback": [
      "\u001b[0;31m---------------------------------------------------------------------------\u001b[0m"
     ]
    }
   ],
   "source": [
    "train(steps = 100000, attn = True)\n",
    "print('Done training part 1')\n",
    "train(steps = 100000, attn = False)\n",
    "print('Done training part 2')"
   ]
  },
  {
   "cell_type": "markdown",
   "metadata": {},
   "source": [
    "### Generate gif files"
   ]
  },
  {
   "cell_type": "code",
   "execution_count": null,
   "metadata": {},
   "outputs": [],
   "source": [
    "from PIL import Image, ImageDraw, ImageFont\n",
    "\n",
    "font = ImageFont.truetype(\"./demo/arial.ttf\", 18)\n",
    "def create_image_with_text(img, wh, text):\n",
    "    width, height = wh\n",
    "    draw = ImageDraw.Draw(img)\n",
    "    draw.text((width, height), text, font = font, fill=\"white\")\n",
    "    return img\n",
    "\n",
    "frames = []\n",
    "\n",
    "for i in range(100, 20001, 100):\n",
    "    img = Image.open('samples_dogs/{}_fake.png'.format(str(i)))\n",
    "    img1 = Image.open('samples_dogs_attn/{}_fake.png'.format(str(i)))\n",
    "    width, height = img.size\n",
    "    expand = Image.new(img.mode, (width*2 + 10, height + 40), \"black\")\n",
    "    expand.paste(img, (0, 0))\n",
    "    expand.paste(img1, (width + 10, 0))\n",
    "    new_frame = create_image_with_text(expand,(10,258), \"After \"+str(i)+\" batches\")\n",
    "    new_frame = create_image_with_text(new_frame,(10,238), \"Without Attention\")\n",
    "    new_frame = create_image_with_text(new_frame,(width + 20,238), \"With Attention\")\n",
    "    frames.append(new_frame)\n",
    "    \n",
    "frames[0].save('./demo/comparison_dogs.gif', format='GIF',\n",
    "               append_images=frames[1:],\n",
    "               save_all=True,\n",
    "               duration=60, loop=0)"
   ]
  }
 ],
 "metadata": {
  "environment": {
   "name": "pytorch-gpu.1-4.m48",
   "type": "gcloud",
   "uri": "gcr.io/deeplearning-platform-release/pytorch-gpu.1-4:m48"
  },
  "kernelspec": {
   "display_name": "Python 3",
   "language": "python",
   "name": "python3"
  },
  "language_info": {
   "codemirror_mode": {
    "name": "ipython",
    "version": 3
   },
   "file_extension": ".py",
   "mimetype": "text/x-python",
   "name": "python",
   "nbconvert_exporter": "python",
   "pygments_lexer": "ipython3",
   "version": "3.7.6"
  }
 },
 "nbformat": 4,
 "nbformat_minor": 4
}
